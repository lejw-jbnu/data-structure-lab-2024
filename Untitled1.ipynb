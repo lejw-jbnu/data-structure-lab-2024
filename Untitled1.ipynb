{
  "nbformat": 4,
  "nbformat_minor": 0,
  "metadata": {
    "colab": {
      "provenance": [],
      "authorship_tag": "ABX9TyPQwaSTZnzzZVn1m6Dm+5zj",
      "include_colab_link": true
    },
    "kernelspec": {
      "name": "python3",
      "display_name": "Python 3"
    },
    "language_info": {
      "name": "python"
    }
  },
  "cells": [
    {
      "cell_type": "markdown",
      "metadata": {
        "id": "view-in-github",
        "colab_type": "text"
      },
      "source": [
        "<a href=\"https://colab.research.google.com/github/lejw-jbnu/data-structure-lab-2024/blob/main/Untitled1.ipynb\" target=\"_parent\"><img src=\"https://colab.research.google.com/assets/colab-badge.svg\" alt=\"Open In Colab\"/></a>"
      ]
    },
    {
      "cell_type": "code",
      "execution_count": 1,
      "metadata": {
        "id": "AUhWQ_4lsPIX"
      },
      "outputs": [],
      "source": [
        "def contains(bag, e) :\n",
        "    return e in bag\n",
        "\n",
        "def insert(bag, e) :\n",
        "    bag.append(e)\n",
        "\n",
        "def insert_first(bag, e) :\n",
        "    bag.insert(0, e)\n",
        "\n",
        "def remove(bag, e) :\n",
        "    bag.remove(e)\n",
        "\n",
        "def count(bag):\n",
        "    return len(bag)"
      ]
    },
    {
      "cell_type": "code",
      "source": [
        "myBag = []\n",
        "insert(myBag, '휴대폰')\n",
        "insert(myBag, '지갑')\n",
        "insert(myBag, '손수건')\n",
        "insert(myBag, '빗')\n",
        "insert(myBag, '자료구조')\n",
        "insert(myBag, '야구공')\n",
        "print('가방속의 물건:', myBag)\n",
        "\n",
        "insert(myBag, '빗')\n",
        "remove(myBag, '손수건')\n",
        "print('가방속의 물건:', myBag)"
      ],
      "metadata": {
        "colab": {
          "base_uri": "https://localhost:8080/"
        },
        "id": "fRC8l_CItP5P",
        "outputId": "58813b96-2a5d-4b76-8978-2a712b57657e"
      },
      "execution_count": 2,
      "outputs": [
        {
          "output_type": "stream",
          "name": "stdout",
          "text": [
            "가방속의 물건: ['휴대폰', '지갑', '손수건', '빗', '자료구조', '야구공']\n",
            "가방속의 물건: ['휴대폰', '지갑', '빗', '자료구조', '야구공', '빗']\n"
          ]
        }
      ]
    },
    {
      "cell_type": "code",
      "source": [
        "def power_recur(x,n):\n",
        "  if n==0:\n",
        "    return 1\n",
        "  elif (n%2)==0:\n",
        "      return power_recur(x*x,n//2)\n",
        "  else:\n",
        "      return x*power_recur(x*x,(n-1)//2)"
      ],
      "metadata": {
        "id": "MzxkcrxBxC1P"
      },
      "execution_count": 5,
      "outputs": []
    },
    {
      "cell_type": "code",
      "source": [
        "print(power_recur(2,3))"
      ],
      "metadata": {
        "colab": {
          "base_uri": "https://localhost:8080/"
        },
        "id": "D7rbmmBRxeG4",
        "outputId": "da7c53a7-ca44-4cbc-cc58-e9191be39158"
      },
      "execution_count": 6,
      "outputs": [
        {
          "output_type": "stream",
          "name": "stdout",
          "text": [
            "8\n"
          ]
        }
      ]
    }
  ]
}